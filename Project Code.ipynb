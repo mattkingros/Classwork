{
 "cells": [
  {
   "cell_type": "markdown",
   "metadata": {},
   "source": [
    "# Matthew King-Roskamp\n",
    "## Project codebase\n",
    "## Student number: 260976649\n",
    "## Krylov subspace methods"
   ]
  },
  {
   "cell_type": "code",
   "execution_count": 2,
   "metadata": {},
   "outputs": [],
   "source": [
    "# Standard Preamble, importing necessary packages\n",
    "import numpy as np;\n",
    "import matplotlib.pyplot as pl;"
   ]
  },
  {
   "cell_type": "markdown",
   "metadata": {},
   "source": [
    "This repository of code is *not* intended as a stand alone document. This is rather intended as an appendix of all the code used to create any figures used in the project. As a result, comments throughout will be quite sparse, only intended to notify the reader of any implementation-specific issues or choices. For and discussion of these methods, see the project."
   ]
  },
  {
   "cell_type": "markdown",
   "metadata": {},
   "source": [
    "## Methods using orthogonal basis of $K_{n}$ "
   ]
  },
  {
   "cell_type": "code",
   "execution_count": 3,
   "metadata": {},
   "outputs": [],
   "source": [
    "def ArnoldiIteration(A,b,iterations):\n",
    "    # Implemented bases on (e.g. Treffethen & Bau)\n",
    "    # Note b needs t be of shape (m) for this to work (a row vector!)\n",
    "    m = np.shape(A)[0];\n",
    "    H = np.zeros([iterations+1,iterations]);\n",
    "    Q = np.zeros([m,iterations+1]);\n",
    "\n",
    "    q=b/np.linalg.norm(b); # this will Change per iteration, care for redefinition\n",
    "    Q[:,0] = q\n",
    "\n",
    "    for n in range(iterations):\n",
    "        v = np.matmul(A,q);\n",
    "        \n",
    "        for j in range(iterations+1):\n",
    "            H[j,n] = np.dot(Q[:,j], v) \n",
    "            v = v - H[j,n]*Q[:,j]\n",
    "\n",
    "        H[n+1,n] = np.linalg.norm(v)\n",
    "        # Specify some internal tolerance:\n",
    "        tol = 1e-12\n",
    "        \n",
    "        if H[n + 1, n] > tol:\n",
    "            # if the \"pivot\" entry above tolerance:\n",
    "            q = v / H[n + 1, n]\n",
    "            Q[:, n+1] = q\n",
    "        else:\n",
    "            # if \"pivot\" zero, we have spanned the entire range and we have invariance AK_{n} + K_{n}\n",
    "            return Q, H\n",
    "    return Q, H"
   ]
  },
  {
   "cell_type": "code",
   "execution_count": 4,
   "metadata": {
    "scrolled": true
   },
   "outputs": [],
   "source": [
    "def GMRES(A,b,iterations):\n",
    "    n = np.shape(A)[0];\n",
    "    e = np.zeros(iterations+1);\n",
    "    e[0] =1.0; \n",
    "    [Q,H] =ArnoldiIteration(A,b,iterations);\n",
    "    # least squares solution\n",
    "    y = np.linalg.lstsq(H,np.linalg.norm(b)*e,rcond =None)[0];\n",
    "    \n",
    "    return np.matmul(Q[0:n,0:iterations],y);"
   ]
  },
  {
   "cell_type": "code",
   "execution_count": 5,
   "metadata": {},
   "outputs": [],
   "source": [
    "def FOM(A,b,iterations):\n",
    "    n = np.shape(A)[0];\n",
    "    e = np.zeros(iterations);\n",
    "    e[0] =1.0; \n",
    "    [Q,H] =ArnoldiIteration(A,b,iterations);\n",
    "    #inverting the square part of H: This can be singular!\n",
    "    y = np.matmul(np.linalg.inv(H[0:iterations,0:iterations]),np.linalg.norm(b)*e);\n",
    "    \n",
    "    return np.matmul(Q[0:n,0:iterations],y);"
   ]
  },
  {
   "cell_type": "code",
   "execution_count": 12,
   "metadata": {},
   "outputs": [],
   "source": [
    "def GCR(A,b,iterations):# Orthogonal in A-norm\n",
    "    n = A.shape[0]; \n",
    "    x = np.copy(x0);\n",
    "    \n",
    "    r = np.copy(b);\n",
    "    \n",
    "    p = np.copy(r);\n",
    "    \n",
    "    for i in range(iterate):\n",
    "        xLast = np.copy(x)\n",
    "        alpha = (np.matmul(np.transpose(r),np.matmul(A,r)))/(np.matmul(np.matmul(np.transpose(np.matmul(A,p),A),p)));\n",
    "        x = x + alpha*p;\n",
    "        rLast = np.copy(r);\n",
    "        r = r - alpha*(np.matmul(A,p));\n",
    "        beta = (np.matmul(np.transpose(r),np.matmul(A,r)))/(np.matmul(np.transpose(rLast),np.matmul(A,rLast)));\n",
    "        p = r + beta*p;\n",
    "        if(np.linalg.norm(x-xLast < 10e-12)):\n",
    "            return x\n",
    "    return x;"
   ]
  },
  {
   "cell_type": "code",
   "execution_count": 13,
   "metadata": {},
   "outputs": [],
   "source": [
    "def CG(A,b,iterate,x0):\n",
    "    # Orthogonal in A-norm\n",
    "    n = A.shape[0]; \n",
    "    x = np.copy(x0);\n",
    "    \n",
    "    r = np.copy(b);\n",
    "    \n",
    "    p = np.copy(r);\n",
    "    \n",
    "    for i in range(iterate):\n",
    "        xLast = np.copy(x)\n",
    "        alpha = (np.matmul(np.transpose(r),r))/(np.matmul(np.matmul(np.transpose(p),A),p));\n",
    "        x = x + alpha*p;\n",
    "        rLast = np.copy(r);\n",
    "        r = r - alpha*(np.matmul(A,p));\n",
    "        beta = (np.matmul(np.transpose(r),r))/(np.matmul(np.transpose(rLast),rLast));\n",
    "        p = r + beta*p;\n",
    "        if(np.linalg.norm(x-xLast < 10e-12)):\n",
    "            return x\n",
    "    return x;"
   ]
  },
  {
   "cell_type": "markdown",
   "metadata": {},
   "source": [
    "## Methods using Biorthogonal Basis' of $K_{n}$"
   ]
  },
  {
   "cell_type": "code",
   "execution_count": 14,
   "metadata": {},
   "outputs": [],
   "source": [
    "def LanczosBiorthogonal(A,v_in,w_in,n):\n",
    "    # this assumes <v,w> =1 already!\n",
    "    tol = 10**(-12);\n",
    "    m = A.shape[0];\n",
    "    V = np.zeros([m,n]);\n",
    "    W = np.zeros([m,n]);\n",
    "    beta =0;\n",
    "    delta = 0;\n",
    "    \n",
    "    \n",
    "    V[:,0] = v_in;\n",
    "    W[:,0] = w_in;\n",
    "    v = np.zeros(m);\n",
    "    w= np.zeros(m);\n",
    "    \n",
    "    for j in range(n-1):\n",
    "        alpha = (np.matmul(np.matmul(np.transpose(V[:,j]),A),W[:,j]));\n",
    "        if(j>=1):\n",
    "            v = np.matmul(A,V[:,j]) - alpha*V[:,j] - beta*V[:,j-1];\n",
    "            w = np.matmul(np.transpose(A),W[:,j]) - alpha*W[:,j] - delta*W[:,j-1];\n",
    "        else:\n",
    "            v = np.matmul(A,V[:,j]) - alpha*V[:,j] ;\n",
    "            w = np.matmul(np.transpose(A),W[:,j]) - alpha*W[:,j];\n",
    "        delta = np.sqrt(np.abs(np.matmul(np.transpose(v),w)));\n",
    "        if(delta < tol):\n",
    "            return V,W;\n",
    "        beta = np.matmul(np.transpose(v),w)/delta;\n",
    "        W[:,j+1] = w/beta;\n",
    "        V[:,j+1] = v/delta;\n",
    "    return V,W;\n",
    "            \n"
   ]
  },
  {
   "cell_type": "code",
   "execution_count": 15,
   "metadata": {},
   "outputs": [],
   "source": [
    "def BICG(A,b,iterate,x0):\n",
    "    n = A.shape[0]; \n",
    "    x = np.copy(x0);\n",
    "    \n",
    "    r = np.copy(b);\n",
    "    p = np.copy(r);\n",
    "    \n",
    "    s = np.ones(n);\n",
    "    q = np.copy(s);\n",
    "    \n",
    "    for i in range(iterate):\n",
    "        alpha = (np.matmul(np.transpose(s),r))/(np.matmul(np.matmul(np.transpose(q),A),p))\n",
    "        \n",
    "        x = x + alpha*p;\n",
    "        rLast = np.copy(r);\n",
    "        r = r - alpha*(np.matmul(A,p));\n",
    "        s = s - alpha*(np.matmul(np.transpose(A),q));\n",
    "        \n",
    "        \n",
    "        beta = (np.matmul(np.transpose(r),r))/(np.matmul(np.transpose(rLast),rLast));\n",
    "        p = r + beta*p;\n",
    "        q = s + beta*q;\n",
    "        \n",
    "    return x;"
   ]
  },
  {
   "cell_type": "code",
   "execution_count": 16,
   "metadata": {},
   "outputs": [],
   "source": [
    "def QMR(A,b,m):\n",
    "    n = np.shape(A)[0];\n",
    "    e = np.zeros(m);\n",
    "    e[0] =1.0; \n",
    "    v_in = b/np.linalg.norm(b);\n",
    "    w_in = np.random.normal(0,1,n);\n",
    "    w_in = w_in/np.matmul(np.transpose(v_in),w_in);\n",
    "    [V,W] =LanczosBiorthogonal(A,v_in,w_in,m);\n",
    "    T = np.matmul(np.matmul(np.transpose(W),A),V);\n",
    "    # least squares solution\n",
    "    y = np.linalg.lstsq(T,np.linalg.norm(b)*e,rcond =None)[0];\n",
    "    return np.matmul(V,y);"
   ]
  },
  {
   "cell_type": "markdown",
   "metadata": {},
   "source": [
    "## Transpose free variants\n",
    "Conjugate gradient squared:"
   ]
  },
  {
   "cell_type": "code",
   "execution_count": 17,
   "metadata": {},
   "outputs": [],
   "source": [
    "def CGS(A,b,iterate):\n",
    "     # Orthogonal in A-norm\n",
    "    n = A.shape[0]; \n",
    "    x = np.copy(b);\n",
    "    \n",
    "    r = np.copy(b);\n",
    "    r0 = np.random.normal(0,1,[n])\n",
    "    u = np.copy(r);\n",
    "    p = np.copy(r);\n",
    "    \n",
    "    for i in range(iterate):\n",
    "        \n",
    "        alpha = (np.matmul(np.transpose(r),r0))/(np.matmul(np.transpose(np.matmul(A,p)),r0))\n",
    "        q = u - alpha*np.matmul(A,p);\n",
    "        x = x + alpha*(u+q);\n",
    "        \n",
    "        rLast = np.copy(r);\n",
    "        r = rLast - alpha*(np.matmul(A,u+q));\n",
    "        \n",
    "        beta = (np.matmul(np.transpose(r),r0))/(np.matmul(np.transpose(rLast),r0));\n",
    "        u = r + beta*q;\n",
    "        p = u+beta*(q+beta*p)\n",
    "        \n",
    "    return x;"
   ]
  },
  {
   "cell_type": "markdown",
   "metadata": {},
   "source": [
    "## Comparisons (Accuracy)"
   ]
  },
  {
   "cell_type": "code",
   "execution_count": 30,
   "metadata": {},
   "outputs": [],
   "source": [
    "# make everything self-adjoint for ease of comparison \n",
    "m = 30;\n",
    "A = np.random.normal(0,1,[m,m]);\n",
    "Tri = np.multiply(np.tri(m,m,1),np.transpose(np.tri(m,m,1)))\n",
    "A = np.multiply(A,Tri);\n",
    "A = A + np.transpose(A)\n",
    "\n",
    "x= np.ones(m);\n",
    "b = np.matmul(A,x);\n",
    "tests = 10;\n",
    "\n",
    "resultGMRES = np.zeros(m+1);\n",
    "resultFOM = np.zeros(m+1);\n",
    "resultCG = np.zeros(m+1);\n",
    "resultCGR = np.zeros(m+1);\n",
    "for n in np.arange(1,m):\n",
    "    for i in range(tests):\n",
    "        resultGMRES[n] = resultGMRES[n] + np.linalg.norm(GMRES(A,b,n)-x)/tests;\n",
    "        resultFOM[n] = resultFOM[n] + np.linalg.norm(FOM(A,b,n)-x)/tests;\n",
    "        resultCG[n] = resultCG[n] +np.linalg.norm(CG(A,b,n,np.random.normal(0,1,[m]))-x)/tests;\n",
    "        resultCGR[n] = resultCGR[n] +np.linalg.norm(CG(A,b,n,np.random.normal(0,1,[m]))-x)/tests;\n",
    "        \n",
    "    "
   ]
  },
  {
   "cell_type": "code",
   "execution_count": 34,
   "metadata": {},
   "outputs": [
    {
     "data": {
      "image/png": "[encoded data removed]",
      "text/plain": [
       "<Figure size 432x288 with 1 Axes>"
      ]
     },
     "metadata": {
      "needs_background": "light"
     },
     "output_type": "display_data"
    }
   ],
   "source": [
    "pl.plot(resultGMRES[1:m+1])\n",
    "pl.plot(resultCG[1:m+1])\n",
    "pl.plot(resultFOM[1:m+1])\n",
    "pl.plot(resultCGR[1:m+1])\n",
    "pl.legend(['GMRES','CG','FOM','CGR'])\n",
    "pl.xlabel('Iteration Number')\n",
    "pl.ylabel('Error (2-norm)')\n",
    "pl.title('Solving 30 by 30 symettric linear systems');"
   ]
  },
  {
   "cell_type": "code",
   "execution_count": 85,
   "metadata": {},
   "outputs": [],
   "source": [
    "# make everything self-adjoint for ease of comparison \n",
    "m = 30;\n",
    "A = np.random.normal(0,1,[m,m]);\n",
    "Tri = np.multiply(np.tri(m,m,1),np.transpose(np.tri(m,m,1)))\n",
    "A = np.multiply(A,Tri);\n",
    "A = A + np.transpose(A)\n",
    "\n",
    "x= np.ones(m);\n",
    "b = np.matmul(A,x);\n",
    "tests = 10;\n",
    "\n",
    "resultBICG = np.zeros(m+1);\n",
    "resultQMR = np.zeros(m+1);\n",
    "\n",
    "for n in np.arange(1,m):\n",
    "    for i in range(tests):\n",
    "        resultQMR[n] = resultQMR[n] + np.linalg.norm(QMR(A,b,n)-x)/tests;\n",
    "        resultBICG[n] = resultBICG[n] +np.linalg.norm(BICG(A,b,n,np.random.normal(0,1,[m]))-x)/tests;\n",
    "    \n",
    "        \n",
    "    "
   ]
  },
  {
   "cell_type": "code",
   "execution_count": 86,
   "metadata": {},
   "outputs": [
    {
     "data": {
      "image/png": "[encoded data removed]",
      "text/plain": [
       "<Figure size 432x288 with 1 Axes>"
      ]
     },
     "metadata": {
      "needs_background": "light"
     },
     "output_type": "display_data"
    }
   ],
   "source": [
    "pl.plot(resultQMR[1:m+1])\n",
    "pl.plot(resultBICG[1:m+1])\n",
    "pl.legend(['QMR','BiCG'])\n",
    "pl.xlabel('Iteration Number')\n",
    "pl.ylabel('Error (2-norm)')\n",
    "pl.title('Solving 30 by 30 symettric linear systems');"
   ]
  },
  {
   "cell_type": "code",
   "execution_count": 51,
   "metadata": {},
   "outputs": [],
   "source": [
    "# make everything self-adjoint for ease of comparison \n",
    "m = 20;\n",
    "A = np.random.normal(0,1,[m,m]);\n",
    "Tri = np.multiply(np.tri(m,m,1),np.transpose(np.tri(m,m,1)))\n",
    "A = np.multiply(A,Tri);\n",
    "A = A + np.transpose(A)\n",
    "\n",
    "x= np.ones(m);\n",
    "b = np.matmul(A,x);\n",
    "tests = 1;\n",
    "\n",
    "resultCGS = np.zeros(m+1);\n",
    "\n",
    "for n in np.arange(1,m):\n",
    "    for i in range(tests):\n",
    "        resultCGS[n] = resultCGS[n] + np.linalg.norm(CGS(A,b,n)-x)/tests;"
   ]
  },
  {
   "cell_type": "code",
   "execution_count": 61,
   "metadata": {},
   "outputs": [
    {
     "data": {
      "image/png": "[encoded data removed]",
      "text/plain": [
       "<Figure size 432x288 with 1 Axes>"
      ]
     },
     "metadata": {
      "needs_background": "light"
     },
     "output_type": "display_data"
    }
   ],
   "source": [
    "pl.plot(resultCGS[1:m+1]);\n",
    "pl.legend(['CGS'])\n",
    "pl.xlabel('Iteration Number')\n",
    "pl.ylabel('Error (2-norm)')\n",
    "pl.title('Solving 20 by 20 symettric linear systems');"
   ]
  },
  {
   "cell_type": "code",
   "execution_count": null,
   "metadata": {},
   "outputs": [],
   "source": []
  }
 ],
 "metadata": {
  "kernelspec": {
   "display_name": "Python 3",
   "language": "python",
   "name": "python3"
  },
  "language_info": {
   "codemirror_mode": {
    "name": "ipython",
    "version": 3
   },
   "file_extension": ".py",
   "mimetype": "text/x-python",
   "name": "python",
   "nbconvert_exporter": "python",
   "pygments_lexer": "ipython3",
   "version": "3.8.6rc1"
  }
 },
 "nbformat": 4,
 "nbformat_minor": 4
}
