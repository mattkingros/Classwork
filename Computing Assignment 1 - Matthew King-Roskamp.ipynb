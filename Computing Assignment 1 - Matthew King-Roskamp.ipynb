{
 "cells": [
  {
   "cell_type": "markdown",
   "metadata": {},
   "source": [
    "# Computing Assignment 1\n",
    "## Matthew King-Roskamp\n",
    "## Student Number:"
   ]
  },
  {
   "cell_type": "code",
   "execution_count": 360,
   "metadata": {},
   "outputs": [],
   "source": [
    "# Standard Preamble, importing necessary packages\n",
    "import numpy as np;\n",
    "import matplotlib.pyplot as pl;"
   ]
  },
  {
   "cell_type": "markdown",
   "metadata": {},
   "source": [
    "# Part 1\n",
    "## 1. Read the paper of Trefethen, Schrieber\n",
    "This paper can be found e.g. on google scholar at\n",
    "https://scholar.google.com/scholar?hl=en&as_sdt=0%2C5&q=average+case+stability+of+gaussian+elimination&btnG=&oq=average+case+stability+of+gaussian+elimin\n",
    "\n",
    "Suppose $A$ has decomposition $PA = LU$ via GEPP. Part 1 is concerned with the behaivor of the growth factor\n",
    "\n",
    "$$ g(A) = \\frac{\\max_{i,j} \\vert u_{ij} \\vert}{\\max_{i,j} \\vert a_{ij} \\vert}$$.\n",
    "\n",
    "## 2. Generation of Gaussian random matrices\n",
    "Here, we generate square Gaussian matrices of a given size n.\n",
    "We choose $\\sigma = 1$, and $\\mu =0$ for simplicity. However, this can easily be added as arguments of the function, If one wishes to examine their effects on later experiments."
   ]
  },
  {
   "cell_type": "code",
   "execution_count": 361,
   "metadata": {},
   "outputs": [],
   "source": [
    "def gaussianMat(n):\n",
    "    # Given input n, returns a square Gaussian Matrix of size n by n\n",
    "    G = np.zeros((n,n));\n",
    "    mu = 0;\n",
    "    sigma =1;\n",
    "    G = np.random.normal(mu,sigma,(n,n));\n",
    "    return [G];"
   ]
  },
  {
   "cell_type": "markdown",
   "metadata": {},
   "source": [
    "We call this function once to see that it works as intended. Note "
   ]
  },
  {
   "cell_type": "code",
   "execution_count": 363,
   "metadata": {},
   "outputs": [
    {
     "name": "stdout",
     "output_type": "stream",
     "text": [
      "[array([[-0.99168623, -1.01187173,  0.42988515],\n",
      "       [-1.52442838,  0.79794956, -0.77235814],\n",
      "       [-1.70616227,  0.59394291,  0.29844608]])]\n"
     ]
    }
   ],
   "source": [
    "G = gaussianMat(3);\n",
    "print(G);"
   ]
  },
  {
   "cell_type": "markdown",
   "metadata": {},
   "source": [
    "## 3. Implementaion of GEPP\n",
    "In this section, we implement Gaussian elimination with partial pivoting. \n",
    "As this is a standard algorithm, we comment throughout on what each step is doing.\n",
    "\n",
    "For the purposes of this assignment, we simply need the upper trangular part $U$, and not the full $PA =LU$ decomposition. This is due to the fact we are only examining the growth factor. However, we return all parts of this decomposition for flexible use if necessary."
   ]
  },
  {
   "cell_type": "code",
   "execution_count": 364,
   "metadata": {},
   "outputs": [],
   "source": [
    "def GEPP(A):\n",
    "    # Perform the decomposition PA =LU given input matrix A.\n",
    "    U = np.copy(A);\n",
    "    n = U.shape;\n",
    "    n = n[0];\n",
    "    L = np.identity(n);\n",
    "    P = np.identity(n);\n",
    "    \n",
    "    # Setup intermediate matrices\n",
    "    for k in range(n):\n",
    "        \n",
    "        # Find the largest entry in the current column k, make this the pivot i\n",
    "        i = k+np.argmax(np.abs(U[k:n,k]));\n",
    "        # Note that argmax returns the largest index in k to n\n",
    "        # But counts from 0 to n-k (thus we add k back)\n",
    "        \n",
    "        # Swap rows of U,L,P. Note we make copies while swapping to avoid pointer issues.\n",
    "        swapRowU = np.copy(U[k,k:n]);\n",
    "        U[k,k:n] = U[i,k:n];\n",
    "        U[i,k:n] = swapRowU;\n",
    "\n",
    "        swapRowL = np.copy(L[k,1:k]);\n",
    "        L[k,1:k] = L[i,1:k];\n",
    "        L[i,1:k] = swapRowL;\n",
    "        \n",
    "        swapRowP = np.copy(P[k,:]);\n",
    "        P[k,:] = P[i,:];\n",
    "        P[i,:] = swapRowP;\n",
    "    \n",
    "        # After pivoting, we perform a gaussian elimination step on the k-th row\n",
    "        for j in range(k+1,n):\n",
    "            L[j,k] = np.divide(U[j,k],U[k,k]);\n",
    "            intermed = L[j,k]*U[k,k:n];\n",
    "            U[j,k:n] = np.subtract(U[j,k:n], intermed);\n",
    "        \n",
    "    return [P,L,U];"
   ]
  },
  {
   "cell_type": "markdown",
   "metadata": {},
   "source": [
    "Now, we sanity check that this method is performing as intended. Let us decompose some matrices, and check for: \n",
    "- L and U are lower / upper triangular\n",
    "- The diagonal entries of L are 1\n",
    "- PA = LU\n",
    "\n",
    "For this check, we simply run the following code block on 3 by 3 matrices to visualize."
   ]
  },
  {
   "cell_type": "code",
   "execution_count": 388,
   "metadata": {},
   "outputs": [
    {
     "name": "stdout",
     "output_type": "stream",
     "text": [
      "[[-2.40290739  0.37778072 -1.34298782  1.30258851 -1.23747855]\n",
      " [-1.0595018  -1.17613231 -0.03770855 -1.3034597   0.03411154]\n",
      " [-0.26163883  0.64359719  0.88890495  1.96089249  2.74735849]\n",
      " [-2.02067585 -0.50168323 -1.5483885   0.62156642 -0.83745676]\n",
      " [ 0.15988942  0.21582606 -0.51055632 -0.35301182 -0.2685117 ]]\n",
      "[[-2.40290739  0.37778072 -1.34298782  1.30258851 -1.23747855]\n",
      " [-1.0595018  -1.17613231 -0.03770855 -1.3034597   0.03411154]\n",
      " [ 0.15988942  0.57732529  1.12449759  1.73238687  2.96444225]\n",
      " [-2.02067585 -0.50168323 -1.5483885   0.62156642 -0.83745676]\n",
      " [-0.26163883  0.28209796 -0.74614896 -0.12450619 -0.48559545]]\n"
     ]
    },
    {
     "data": {
      "text/plain": [
       "3.142228889389001"
      ]
     },
     "execution_count": 388,
     "metadata": {},
     "output_type": "execute_result"
    }
   ],
   "source": [
    "A = gaussianMat(5);\n",
    "A = A[0];\n",
    "[P,L,U] = GEPP(A);\n",
    "print(np.matmul(P,A));\n",
    "print(np.matmul(L,U));"
   ]
  },
  {
   "cell_type": "markdown",
   "metadata": {},
   "source": [
    "## 4.Plotting the growth factor vs Matrix Size"
   ]
  },
  {
   "cell_type": "code",
   "execution_count": 389,
   "metadata": {},
   "outputs": [
    {
     "name": "stdout",
     "output_type": "stream",
     "text": [
      "Currently testing n = 10\n",
      "Currently testing n = 11\n",
      "Currently testing n = 12\n",
      "Currently testing n = 13\n",
      "Currently testing n = 14\n",
      "Currently testing n = 15\n",
      "Currently testing n = 16\n",
      "Currently testing n = 17\n",
      "Currently testing n = 18\n",
      "Currently testing n = 19\n",
      "Currently testing n = 20\n",
      "Currently testing n = 21\n",
      "Currently testing n = 22\n",
      "Currently testing n = 23\n",
      "Currently testing n = 24\n",
      "Currently testing n = 25\n",
      "Currently testing n = 26\n",
      "Currently testing n = 27\n",
      "Currently testing n = 28\n",
      "Currently testing n = 29\n",
      "Currently testing n = 30\n",
      "Currently testing n = 31\n",
      "Currently testing n = 32\n",
      "Currently testing n = 33\n",
      "Currently testing n = 34\n",
      "Currently testing n = 35\n",
      "Currently testing n = 36\n",
      "Currently testing n = 37\n",
      "Currently testing n = 38\n",
      "Currently testing n = 39\n",
      "Currently testing n = 40\n",
      "Currently testing n = 41\n",
      "Currently testing n = 42\n",
      "Currently testing n = 43\n",
      "Currently testing n = 44\n",
      "Currently testing n = 45\n",
      "Currently testing n = 46\n",
      "Currently testing n = 47\n",
      "Currently testing n = 48\n",
      "Currently testing n = 49\n"
     ]
    }
   ],
   "source": [
    "nValues = range(10,50,1)\n",
    "numTests = 100;\n",
    "\n",
    "g = np.zeros((1,np.size(nValues)));\n",
    "index = 0;\n",
    "for n in nValues:\n",
    "    print('Currently testing n =',n);\n",
    "    \n",
    "    for j in range(numTests):\n",
    "        \n",
    "        A = gaussianMat(n)[0];\n",
    "        U = GEPP(A)[2];\n",
    "        g[0,index] = g[0,index] + (np.max(np.abs(U))/np.max(np.abs(A)));\n",
    "        \n",
    "    g[0,index] = g[0,index]/numTests;\n",
    "    index = index +1;"
   ]
  },
  {
   "cell_type": "code",
   "execution_count": 390,
   "metadata": {},
   "outputs": [
    {
     "data": {
      "text/plain": [
       "Text(0.5, 1.0, 'Growth Factor vs N, Gaussian Random Matrices')"
      ]
     },
     "execution_count": 390,
     "metadata": {},
     "output_type": "execute_result"
    },
    {
     "data": {
      "image/png": "[encoded data removed]",
      "text/plain": [
       "<Figure size 432x288 with 1 Axes>"
      ]
     },
     "metadata": {
      "needs_background": "light"
     },
     "output_type": "display_data"
    }
   ],
   "source": [
    "pl.plot(nValues,g[0,:]);\n",
    "pl.xlabel('Size of matrix, n');\n",
    "pl.ylabel('Size of growth factor g(A)')\n",
    "pl.title('Growth Factor vs N, Gaussian Random Matrices')"
   ]
  },
  {
   "cell_type": "code",
   "execution_count": null,
   "metadata": {},
   "outputs": [],
   "source": []
  },
  {
   "cell_type": "code",
   "execution_count": null,
   "metadata": {},
   "outputs": [],
   "source": []
  }
 ],
 "metadata": {
  "kernelspec": {
   "display_name": "Python 3",
   "language": "python",
   "name": "python3"
  },
  "language_info": {
   "codemirror_mode": {
    "name": "ipython",
    "version": 3
   },
   "file_extension": ".py",
   "mimetype": "text/x-python",
   "name": "python",
   "nbconvert_exporter": "python",
   "pygments_lexer": "ipython3",
   "version": "3.8.6rc1"
  }
 },
 "nbformat": 4,
 "nbformat_minor": 4
}
